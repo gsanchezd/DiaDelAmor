{
  "nbformat": 4,
  "nbformat_minor": 0,
  "metadata": {
    "colab": {
      "name": "Prework.ipynb",
      "provenance": [],
      "authorship_tag": "ABX9TyOOoBp/7V3WKU3L2pUl3sfp",
      "include_colab_link": true
    },
    "kernelspec": {
      "name": "python3",
      "display_name": "Python 3"
    }
  },
  "cells": [
    {
      "cell_type": "markdown",
      "metadata": {
        "id": "view-in-github",
        "colab_type": "text"
      },
      "source": [
        "<a href=\"https://colab.research.google.com/github/gsanchezd/DiaDelAmor/blob/master/Prework.ipynb\" target=\"_parent\"><img src=\"https://colab.research.google.com/assets/colab-badge.svg\" alt=\"Open In Colab\"/></a>"
      ]
    },
    {
      "cell_type": "markdown",
      "metadata": {
        "id": "GWQk8Tax6AdK"
      },
      "source": [
        "## Bienvenidos al Prework. \n",
        "\n",
        "### Unidad 1: Primeras instrucciones\n",
        "En este unidad aprenderemos a crear nuestros primeros programas.\n",
        "Para ejecutar un código presiona en el ícono de play, también puedes experimentar con los códigos modificándolos. "
      ]
    },
    {
      "cell_type": "code",
      "metadata": {
        "colab": {
          "base_uri": "https://localhost:8080/"
        },
        "id": "xPQJsIGM5zUW",
        "outputId": "7b8eb948-ce2b-4a0c-b35a-ad8fe09122a6"
      },
      "source": [
        "# Ejecutando nuestro primer código. Al ejecutar un código el resultado de la última instrucción se muestra en pantalla \n",
        "2 + 2"
      ],
      "execution_count": null,
      "outputs": [
        {
          "output_type": "execute_result",
          "data": {
            "text/plain": [
              "4"
            ]
          },
          "metadata": {
            "tags": []
          },
          "execution_count": 11
        }
      ]
    },
    {
      "cell_type": "code",
      "metadata": {
        "colab": {
          "base_uri": "https://localhost:8080/"
        },
        "id": "kldL5XS_8JD8",
        "outputId": "2cb0bf18-8a40-4434-cdd1-ee1522cedf6b"
      },
      "source": [
        "# Al programar podemos ocupar variables, las variables nos permiten almacenar valores y utilizarlas posteriormente\n",
        "\n",
        "a = 2\n",
        "b = 3\n",
        "a + b"
      ],
      "execution_count": null,
      "outputs": [
        {
          "output_type": "execute_result",
          "data": {
            "text/plain": [
              "5"
            ]
          },
          "metadata": {
            "tags": []
          },
          "execution_count": 12
        }
      ]
    },
    {
      "cell_type": "code",
      "metadata": {
        "colab": {
          "base_uri": "https://localhost:8080/"
        },
        "id": "OrGm7nOa9sar",
        "outputId": "4c44892f-f4a4-4dc0-f01d-5dbe73cbcfdb"
      },
      "source": [
        "# Se llaman variables porque el valor que almacenan puede cambiar\n",
        "a = 5\n",
        "a = 8\n",
        "b = 10\n",
        "a + b"
      ],
      "execution_count": null,
      "outputs": [
        {
          "output_type": "execute_result",
          "data": {
            "text/plain": [
              "18"
            ]
          },
          "metadata": {
            "tags": []
          },
          "execution_count": 13
        }
      ]
    },
    {
      "cell_type": "code",
      "metadata": {
        "id": "bjLjCkoy-J3j"
      },
      "source": [
        "# Nuestro programa también puede pedir valores para que los ingrese el usuario. \n",
        "# De esta forma podemos crear programas más flexibles que pueden ser reutilizados \n",
        "# Al correr este código nos encontraremos con una sorpresa\n",
        "\n",
        "a = input()\n",
        "b = input()\n",
        "a + b\n"
      ],
      "execution_count": null,
      "outputs": []
    },
    {
      "cell_type": "code",
      "metadata": {
        "id": "o8AVqZmbFGpq"
      },
      "source": [
        ""
      ],
      "execution_count": null,
      "outputs": []
    },
    {
      "cell_type": "code",
      "metadata": {
        "id": "E_D7Md-aFAiu"
      },
      "source": [
        ""
      ],
      "execution_count": null,
      "outputs": []
    },
    {
      "cell_type": "code",
      "metadata": {
        "id": "GQaBXxQpEl92"
      },
      "source": [
        ""
      ],
      "execution_count": null,
      "outputs": []
    },
    {
      "cell_type": "code",
      "metadata": {
        "id": "jOsk4EcQ-6hB"
      },
      "source": [
        ""
      ],
      "execution_count": null,
      "outputs": []
    }
  ]
}